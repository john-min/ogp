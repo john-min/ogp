{
 "cells": [
  {
   "cell_type": "markdown",
   "metadata": {},
   "source": [
    "## I/O and Preprocessing "
   ]
  },
  {
   "cell_type": "code",
   "execution_count": 1,
   "metadata": {
    "collapsed": true
   },
   "outputs": [],
   "source": [
    "import pandas as pd"
   ]
  },
  {
   "cell_type": "code",
   "execution_count": 300,
   "metadata": {
    "collapsed": false
   },
   "outputs": [],
   "source": [
    "software_url = 'https://docs.google.com/spreadsheets/d/1Sjp9PG75Ap-5YBvOWZ-cCUGkNhN41LZlz3OL-gJ-tKU/export?format=csv&id=1Sjp9PG75Ap-5YBvOWZ-cCUGkNhN41LZlz3OL-gJ-tKU&gid=1702131855'\n",
    "usage_url = 'https://docs.google.com/spreadsheets/d/1Sjp9PG75Ap-5YBvOWZ-cCUGkNhN41LZlz3OL-gJ-tKU/export?format=csv&id=1Sjp9PG75Ap-5YBvOWZ-cCUGkNhN41LZlz3OL-gJ-tKU&gid=1374288343'"
   ]
  },
  {
   "cell_type": "code",
   "execution_count": 301,
   "metadata": {
    "collapsed": false
   },
   "outputs": [],
   "source": [
    "software_data = pd.read_csv(software_url).dropna(how='all')\n",
    "usage_data = pd.read_csv(usage_url).dropna(how='all')"
   ]
  },
  {
   "cell_type": "code",
   "execution_count": 265,
   "metadata": {
    "collapsed": true
   },
   "outputs": [],
   "source": [
    "def whitestrip_elements(x):\n",
    "    '''\n",
    "    Eliminates whitespace on left/right for strings or strings that begin with -\n",
    "    '''\n",
    "    if isinstance(x, str):\n",
    "        if x[0] == '-':\n",
    "            return None\n",
    "        return x.lstrip().rstrip()\n",
    "    return x"
   ]
  },
  {
   "cell_type": "code",
   "execution_count": 266,
   "metadata": {
    "collapsed": false
   },
   "outputs": [],
   "source": [
    "software = software_data.applymap(whitestrip_elements)"
   ]
  },
  {
   "cell_type": "markdown",
   "metadata": {},
   "source": [
    "## Nodes "
   ]
  },
  {
   "cell_type": "code",
   "execution_count": 267,
   "metadata": {
    "collapsed": false
   },
   "outputs": [],
   "source": [
    "all_names = list(software['Name'].unique())"
   ]
  },
  {
   "cell_type": "code",
   "execution_count": 268,
   "metadata": {
    "collapsed": false
   },
   "outputs": [],
   "source": [
    "tag_list = pd.Series() \n",
    "for col in software.ix[:, 4:23].columns:\n",
    "    tag_list = tag_list.append((software[col].dropna()))\n",
    "tag_list = sorted(list(set(tag_list)))\n",
    "#tag_list = sorted([tag for tag in tag_list if tag[0]!='-'])"
   ]
  },
  {
   "cell_type": "code",
   "execution_count": 269,
   "metadata": {
    "collapsed": true
   },
   "outputs": [],
   "source": [
    "tag_df = pd.DataFrame(pd.Series(tag_list).dropna().drop_duplicates())\n",
    "tag_df.columns = ['label']\n",
    "tag_df['type'] = 'tag'"
   ]
  },
  {
   "cell_type": "code",
   "execution_count": 270,
   "metadata": {
    "collapsed": false
   },
   "outputs": [],
   "source": [
    "name_df = pd.DataFrame(pd.Series(all_names).dropna().drop_duplicates())\n",
    "name_df.columns = ['label']\n",
    "name_df['type'] = 'name'"
   ]
  },
  {
   "cell_type": "code",
   "execution_count": 293,
   "metadata": {
    "collapsed": false
   },
   "outputs": [],
   "source": [
    "node_df = pd.DataFrame()\n",
    "node_df = node_df.append(tag_df, ignore_index=True)\n",
    "node_df = node_df.append(name_df, ignore_index=True)"
   ]
  },
  {
   "cell_type": "code",
   "execution_count": 294,
   "metadata": {
    "collapsed": false
   },
   "outputs": [],
   "source": [
    "node_df = node_df.sort_values(by='label').reset_index()\n",
    "node_df['id'] = node_df.index"
   ]
  },
  {
   "cell_type": "code",
   "execution_count": 295,
   "metadata": {
    "collapsed": false
   },
   "outputs": [],
   "source": [
    "node_df[['id', 'label', 'type']].to_csv('nodes.csv', index=False)"
   ]
  },
  {
   "cell_type": "code",
   "execution_count": 297,
   "metadata": {
    "collapsed": false
   },
   "outputs": [],
   "source": [
    "node_df.index = node_df['label']"
   ]
  },
  {
   "cell_type": "markdown",
   "metadata": {},
   "source": [
    "## Edges"
   ]
  },
  {
   "cell_type": "code",
   "execution_count": 299,
   "metadata": {
    "collapsed": true
   },
   "outputs": [],
   "source": [
    "def build_name_tag_dict(row):\n",
    "    '''\n",
    "    Builds a dictionary as follows:\n",
    "    {'Name': 'Software_Name', 'Tags': ['tag1', 'tag2']}\n",
    "    '''\n",
    "    name = row['Name']\n",
    "    tags = list(row.ix[4:23].dropna())\n",
    "    nt_dict = {'Name': name, 'Tags': tags}\n",
    "    return nt_dict\n",
    "\n",
    "software_dict = [build_name_tag_dict(row) for idx, row in software.iterrows()]"
   ]
  },
  {
   "cell_type": "code",
   "execution_count": 363,
   "metadata": {
    "collapsed": false
   },
   "outputs": [],
   "source": [
    "def build_edges(d, label_type='id'):\n",
    "    '''\n",
    "    Builds list of tuples to represent edges between the source and target\n",
    "    Returns [(source1, target1), (source2, target2)]\n",
    "    \n",
    "    label_type: {'id', 'label'}\n",
    "    '''\n",
    "    source = d['Name']\n",
    "    targets = d['Tags']\n",
    "    edge_list = []\n",
    "    node_type_grp = node_df.groupby('type') #groupby label type\n",
    "    source_df = node_type_grp.get_group('name') #df of names\n",
    "    target_df = node_type_grp.get_group('tag') #df of tags\n",
    "    source_id = source_df.ix[source, 'id'] #map source_name to source_id\n",
    "    for target in targets:\n",
    "        target_id = target_df.ix[target, 'id'] #map target_name to target_id\n",
    "        edge_list.append((source_id, target_id)) #append (source_id, target_id)\n",
    "    return edge_list"
   ]
  },
  {
   "cell_type": "code",
   "execution_count": 370,
   "metadata": {
    "collapsed": false
   },
   "outputs": [],
   "source": [
    "edge_list = []\n",
    "for d in software_dict:\n",
    "    edge_list += build_edges(d, label_type='label')"
   ]
  },
  {
   "cell_type": "code",
   "execution_count": 371,
   "metadata": {
    "collapsed": true
   },
   "outputs": [],
   "source": [
    "edge_df = pd.DataFrame(edge_list)\n",
    "edge_df.columns = ['Source', 'Target']\n",
    "edge_df.to_csv('edges.csv', index=False)"
   ]
  }
 ],
 "metadata": {
  "kernelspec": {
   "display_name": "Python 2",
   "language": "python",
   "name": "python2"
  },
  "language_info": {
   "codemirror_mode": {
    "name": "ipython",
    "version": 2
   },
   "file_extension": ".py",
   "mimetype": "text/x-python",
   "name": "python",
   "nbconvert_exporter": "python",
   "pygments_lexer": "ipython2",
   "version": "2.7.11"
  }
 },
 "nbformat": 4,
 "nbformat_minor": 0
}
