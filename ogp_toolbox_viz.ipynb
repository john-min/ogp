{
 "cells": [
  {
   "cell_type": "markdown",
   "metadata": {},
   "source": [
    "## I/O and Preprocessing "
   ]
  },
  {
   "cell_type": "code",
   "execution_count": 466,
   "metadata": {
    "collapsed": true
   },
   "outputs": [],
   "source": [
    "%matplotlib inline\n",
    "import pandas as pd"
   ]
  },
  {
   "cell_type": "code",
   "execution_count": 300,
   "metadata": {
    "collapsed": false
   },
   "outputs": [],
   "source": [
    "software_url = 'https://docs.google.com/spreadsheets/d/1Sjp9PG75Ap-5YBvOWZ-cCUGkNhN41LZlz3OL-gJ-tKU/export?format=csv&id=1Sjp9PG75Ap-5YBvOWZ-cCUGkNhN41LZlz3OL-gJ-tKU&gid=1702131855'\n",
    "usage_url = 'https://docs.google.com/spreadsheets/d/1Sjp9PG75Ap-5YBvOWZ-cCUGkNhN41LZlz3OL-gJ-tKU/export?format=csv&id=1Sjp9PG75Ap-5YBvOWZ-cCUGkNhN41LZlz3OL-gJ-tKU&gid=1374288343'"
   ]
  },
  {
   "cell_type": "code",
   "execution_count": 301,
   "metadata": {
    "collapsed": false
   },
   "outputs": [],
   "source": [
    "software_data = pd.read_csv(software_url).dropna(how='all')\n",
    "usage_data = pd.read_csv(usage_url).dropna(how='all')"
   ]
  },
  {
   "cell_type": "code",
   "execution_count": 265,
   "metadata": {
    "collapsed": true
   },
   "outputs": [],
   "source": [
    "def whitestrip_elements(x):\n",
    "    '''\n",
    "    Eliminates whitespace on left/right for strings or strings that begin with -\n",
    "    '''\n",
    "    if isinstance(x, str):\n",
    "        if x[0] == '-':\n",
    "            return None\n",
    "        return x.lstrip().rstrip()\n",
    "    return x"
   ]
  },
  {
   "cell_type": "code",
   "execution_count": 455,
   "metadata": {
    "collapsed": false
   },
   "outputs": [],
   "source": [
    "software = software_data.applymap(whitestrip_elements)\n",
    "usage = usage_data.applymap(whitestrip_elements)"
   ]
  },
  {
   "cell_type": "markdown",
   "metadata": {},
   "source": [
    "## Nodes "
   ]
  },
  {
   "cell_type": "markdown",
   "metadata": {},
   "source": [
    "### Software"
   ]
  },
  {
   "cell_type": "code",
   "execution_count": 445,
   "metadata": {
    "collapsed": false
   },
   "outputs": [],
   "source": [
    "all_names = software['Name'].unique()\n",
    "software_df = pd.DataFrame(pd.Series(all_names).dropna().drop_duplicates())\n",
    "software_df.columns = ['label']\n",
    "software_df['type'] = 'software'"
   ]
  },
  {
   "cell_type": "markdown",
   "metadata": {},
   "source": [
    "### Tags "
   ]
  },
  {
   "cell_type": "code",
   "execution_count": 446,
   "metadata": {
    "collapsed": false
   },
   "outputs": [],
   "source": [
    "tag_list = pd.Series() \n",
    "for col in software.ix[:, 4:23].columns:\n",
    "    tag_list = tag_list.append((software[col].dropna()))\n",
    "tag_list = sorted(list(set(tag_list)))\n",
    "#tag_list = sorted([tag for tag in tag_list if tag[0]!='-'])"
   ]
  },
  {
   "cell_type": "code",
   "execution_count": 447,
   "metadata": {
    "collapsed": true
   },
   "outputs": [],
   "source": [
    "tag_df = pd.DataFrame(pd.Series(tag_list).dropna().drop_duplicates())\n",
    "tag_df.columns = ['label']\n",
    "tag_df['type'] = 'tag'"
   ]
  },
  {
   "cell_type": "markdown",
   "metadata": {},
   "source": [
    "### Organizations "
   ]
  },
  {
   "cell_type": "code",
   "execution_count": 448,
   "metadata": {
    "collapsed": true
   },
   "outputs": [],
   "source": [
    "all_orgs = usage_data['Name'].unique()\n",
    "org_df = pd.DataFrame(pd.Series(all_orgs).dropna().drop_duplicates())\n",
    "org_df.columns = ['label']\n",
    "org_df['type'] = 'org'"
   ]
  },
  {
   "cell_type": "markdown",
   "metadata": {
    "collapsed": false
   },
   "source": [
    "### Aggregate all nodes "
   ]
  },
  {
   "cell_type": "code",
   "execution_count": 449,
   "metadata": {
    "collapsed": false
   },
   "outputs": [],
   "source": [
    "node_df = pd.DataFrame()\n",
    "node_df = node_df.append(tag_df, ignore_index=True)\n",
    "node_df = node_df.append(software_df, ignore_index=True)\n",
    "node_df = node_df.append(org_df, ignore_index=True)"
   ]
  },
  {
   "cell_type": "code",
   "execution_count": 450,
   "metadata": {
    "collapsed": false
   },
   "outputs": [],
   "source": [
    "node_df = node_df.sort_values(by='label').reset_index()\n",
    "node_df['id'] = node_df.index"
   ]
  },
  {
   "cell_type": "code",
   "execution_count": 451,
   "metadata": {
    "collapsed": false
   },
   "outputs": [],
   "source": [
    "node_df[['id', 'label', 'type']].to_csv('nodes.csv', index=False)"
   ]
  },
  {
   "cell_type": "code",
   "execution_count": 452,
   "metadata": {
    "collapsed": false
   },
   "outputs": [],
   "source": [
    "node_df.index = node_df['label']"
   ]
  },
  {
   "cell_type": "markdown",
   "metadata": {},
   "source": [
    "## Edges"
   ]
  },
  {
   "cell_type": "code",
   "execution_count": null,
   "metadata": {
    "collapsed": true
   },
   "outputs": [],
   "source": [
    "def build_org_software_dict(row):\n",
    "    '''\n",
    "    Builds a dictionary between organization and software \n",
    "    {'Name': 'Org1', 'Uses': ['tag1', 'tag2']}\n",
    "    '''\n",
    "    name = row['Name']\n",
    "    uses = list(row.ix[3:7].dropna())\n",
    "    org_name_dict = {'Name': name, 'Uses': uses}\n",
    "    return org_name_dict\n",
    "\n",
    "org_software_dict = [build_org_software_dict(row) for idx, row in usage.iterrows()] "
   ]
  },
  {
   "cell_type": "code",
   "execution_count": 459,
   "metadata": {
    "collapsed": true
   },
   "outputs": [],
   "source": [
    "def build_software_tag_dict(row):\n",
    "    '''\n",
    "    Builds a dictionary as follows:\n",
    "    {'Name': 'Software_Name', 'Tags': ['tag1', 'tag2']}\n",
    "    '''\n",
    "    name = row['Name']\n",
    "    tags = list(row.ix[4:23].dropna())\n",
    "    nt_dict = {'Name': name, 'Tags': tags}\n",
    "    return nt_dict\n",
    "\n",
    "\n",
    "software_dict = [build_software_tag_dict(row) for idx, row in software.iterrows()]"
   ]
  },
  {
   "cell_type": "code",
   "execution_count": 496,
   "metadata": {
    "collapsed": false
   },
   "outputs": [],
   "source": [
    "def build_edges(d, label_type='id', src_name='Name', tgt_name='Tags', src_type='software', tgt_type='tag'):\n",
    "    '''\n",
    "    Builds list of tuples to represent edges between the source and target\n",
    "    Returns [(source1, target1), (source2, target2)]\n",
    "    \n",
    "    label_type: {'id', 'label'}\n",
    "    '''\n",
    "    source = d[src_name]\n",
    "    targets = d[tgt_name]\n",
    "    edge_list = []\n",
    "    node_type_grp = node_df.groupby('type') #groupby label type\n",
    "    source_df = node_type_grp.get_group(src_type) #df of names\n",
    "    target_df = node_type_grp.get_group(tgt_type) #df of tags\n",
    "    source_id = source_df.ix[source, label_type] #map source_name to source_id\n",
    "    for target in targets:\n",
    "        try:\n",
    "            target_id = target_df.ix[target, label_type] #map target_name to target_id\n",
    "            edge_list.append((source_id, target_id)) #append (source_id, target_id)\n",
    "        except:\n",
    "            pass\n",
    "    return edge_list"
   ]
  },
  {
   "cell_type": "code",
   "execution_count": 497,
   "metadata": {
    "collapsed": false
   },
   "outputs": [],
   "source": [
    "edge_list = []\n",
    "for d in software_dict:\n",
    "    edge_list += build_edges(d, label_type='label')"
   ]
  },
  {
   "cell_type": "code",
   "execution_count": 498,
   "metadata": {
    "collapsed": false
   },
   "outputs": [],
   "source": [
    "edge_df = pd.DataFrame(edge_list)\n",
    "edge_df.columns = ['Source', 'Target']\n",
    "edge_df.to_csv('edges.csv', index=False)"
   ]
  },
  {
   "cell_type": "code",
   "execution_count": 499,
   "metadata": {
    "collapsed": false
   },
   "outputs": [
    {
     "data": {
      "text/plain": [
       "<matplotlib.axes._subplots.AxesSubplot at 0x11b757a50>"
      ]
     },
     "execution_count": 499,
     "metadata": {},
     "output_type": "execute_result"
    },
    {
     "data": {
      "image/png": "[encoded data removed]",
      "text/plain": [
       "<matplotlib.figure.Figure at 0x11c2e8d10>"
      ]
     },
     "metadata": {},
     "output_type": "display_data"
    }
   ],
   "source": [
    "edge_df['Target'].value_counts(ascending=True).tail(n=20).plot(kind='barh')"
   ]
  },
  {
   "cell_type": "markdown",
   "metadata": {},
   "source": [
    "## Organization - Software Usage "
   ]
  },
  {
   "cell_type": "code",
   "execution_count": 510,
   "metadata": {
    "collapsed": false
   },
   "outputs": [],
   "source": [
    "org_software_edges = []\n",
    "for d in org_software_dict:\n",
    "    org_software_edges += build_edges(d, label_type='label', src_name='Name', tgt_name='Uses', src_type='org', tgt_type='software')"
   ]
  },
  {
   "cell_type": "code",
   "execution_count": 513,
   "metadata": {
    "collapsed": false
   },
   "outputs": [],
   "source": [
    "software_tag_grps = edge_df.groupby('Source')"
   ]
  },
  {
   "cell_type": "code",
   "execution_count": 529,
   "metadata": {
    "collapsed": false
   },
   "outputs": [],
   "source": [
    "from collections import defaultdict\n",
    "tag_count = defaultdict(int)\n",
    "for edge in org_software_edges:\n",
    "    _, software = edge\n",
    "    if software in software_tag_grps.groups.keys():\n",
    "        software_tag_df = software_tag_grps.get_group(software)\n",
    "        if not software_tag_df.empty:\n",
    "            for tag in software_tag_df['Target']:\n",
    "                tag_count[tag] += 1"
   ]
  },
  {
   "cell_type": "markdown",
   "metadata": {},
   "source": [
    "# Visualization"
   ]
  },
  {
   "cell_type": "markdown",
   "metadata": {},
   "source": [
    "## Histogram of Tags by Available Software"
   ]
  },
  {
   "cell_type": "code",
   "execution_count": 542,
   "metadata": {
    "collapsed": false
   },
   "outputs": [
    {
     "data": {
      "text/plain": [
       "<matplotlib.axes._subplots.AxesSubplot at 0x11c6ada90>"
      ]
     },
     "execution_count": 542,
     "metadata": {},
     "output_type": "execute_result"
    },
    {
     "data": {
      "image/png": "[encoded data removed]",
      "text/plain": [
       "<matplotlib.figure.Figure at 0x11c5f9090>"
      ]
     },
     "metadata": {},
     "output_type": "display_data"
    }
   ],
   "source": [
    "edge_df['Target'].value_counts(ascending=True).tail(n=20).plot(kind='barh')"
   ]
  },
  {
   "cell_type": "markdown",
   "metadata": {},
   "source": [
    "## Histogram of Tags based on Software Usage by Initiatives"
   ]
  },
  {
   "cell_type": "code",
   "execution_count": 543,
   "metadata": {
    "collapsed": false
   },
   "outputs": [
    {
     "data": {
      "text/plain": [
       "<matplotlib.axes._subplots.AxesSubplot at 0x12072ec10>"
      ]
     },
     "execution_count": 543,
     "metadata": {},
     "output_type": "execute_result"
    },
    {
     "data": {
      "image/png": "[encoded data removed]",
      "text/plain": [
       "<matplotlib.figure.Figure at 0x11c3325d0>"
      ]
     },
     "metadata": {},
     "output_type": "display_data"
    }
   ],
   "source": [
    "pd.Series(tag_count).sort_values(ascending=True).tail(n=20).plot(kind='barh')"
   ]
  }
 ],
 "metadata": {
  "kernelspec": {
   "display_name": "Python 2",
   "language": "python",
   "name": "python2"
  },
  "language_info": {
   "codemirror_mode": {
    "name": "ipython",
    "version": 2
   },
   "file_extension": ".py",
   "mimetype": "text/x-python",
   "name": "python",
   "nbconvert_exporter": "python",
   "pygments_lexer": "ipython2",
   "version": "2.7.11"
  }
 },
 "nbformat": 4,
 "nbformat_minor": 0
}
